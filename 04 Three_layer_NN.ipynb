{
 "cells": [
  {
   "cell_type": "code",
   "execution_count": 3,
   "id": "7888e62e",
   "metadata": {},
   "outputs": [],
   "source": [
    "import torch\n",
    "import torch.nn.functional as F\n",
    "import numpy as np\n",
    "# activation functions are included in torch.nn.functional\n",
    "# but now deprecated, can use nn.sigmoid, nn.tanh directly\n",
    "import matplotlib.pyplot as plt"
   ]
  },
  {
   "cell_type": "code",
   "execution_count": 207,
   "id": "4a6e6685",
   "metadata": {},
   "outputs": [],
   "source": [
    "class ThreeLayerNeuralNetwork:\n",
    "    \"\"\"\n",
    "    3-NN \n",
    "    input=2\n",
    "    tanh_layer input=2, output=4 (y1=tanh(x@w1+b1))\n",
    "    sigmoid_layer  input=4, output=4 (y2=relu(y1@w2+b2))\n",
    "    tanh_layer input=4, output=1 (y=sigmoid(y2@w3+b3))\n",
    "    \"\"\"\n",
    "    def __init__(self, \n",
    "                 lr=5e-3, \n",
    "                 epoch=3000):\n",
    "        self.w1 = torch.nn.Parameter(torch.randn(2,4))\n",
    "        self.b1 = torch.nn.Parameter(torch.zeros(4))\n",
    "        self.w2 = torch.nn.Parameter(torch.randn(4,4))\n",
    "        self.b2 = torch.nn.Parameter(torch.zeros(4))\n",
    "        self.w3 = torch.nn.Parameter(torch.randn(4,1))\n",
    "        self.b3 = torch.nn.Parameter(torch.zeros(1))\n",
    "        \n",
    "        self.epoch = epoch\n",
    "        \n",
    "        self.optimizer = torch.optim.SGD([\n",
    "            self.w1, self.b1, \n",
    "            self.w2, self.b2,\n",
    "            self.w3, self.b3\n",
    "        ], lr = lr)\n",
    "        self.loss_func = torch.nn.BCEWithLogitsLoss()\n",
    "        \n",
    "    def network(self, x):\n",
    "        y1 = F.tanh(torch.mm(x, self.w1) + self.b1)\n",
    "        y2 = F.tanh(torch.mm(y1, self.w2) + self.b2)\n",
    "        y = F.sigmoid(torch.mm(y2, self.w3) + self.b3)\n",
    "        return y\n",
    "    \n",
    "    def train(self, x_train, y_train):\n",
    "        for e in range(self.epoch):\n",
    "            y_estimate = self.network(x_train)\n",
    "            loss = self.loss_func(y_estimate, y_train) # attention: do not swap the position!\n",
    "            loss.backward()\n",
    "            self.optimizer.step()\n",
    "            acc = self.acc(y_train, self.predict(x_train))\n",
    "            if e%100==0 or e==self.epoch-1:\n",
    "                print(\"epoch{}/{}, loss={}, acc={}\".format(e, self.epoch, loss, acc))\n",
    "            self.optimizer.zero_grad()\n",
    "    \n",
    "    def predict(self, x_pred):\n",
    "        return self.network(x_pred).ge(0.5).float()\n",
    "    \n",
    "    def acc(self, y_train, y_pred):\n",
    "        return (y_pred == y_train).float().sum() / y_train.shape[0]"
   ]
  },
  {
   "cell_type": "code",
   "execution_count": 208,
   "id": "3f4e08ca",
   "metadata": {},
   "outputs": [],
   "source": [
    "def make_dataset(sample_count, input_dim=2, label_classes=2):\n",
    "    x = np.zeros((sample_count, input_dim))\n",
    "    y = np.zeros((sample_count, 1))\n",
    "    N = int(sample_count/label_classes)\n",
    "    for c in range(label_classes):\n",
    "        ix = range(N*c,N*(c+1))\n",
    "        t = np.linspace(c*3.12,(c+1)*3.12,N) + np.random.randn(N)*0.2\n",
    "        r = 4*np.sin(4*t) + np.random.randn(N)*0.2\n",
    "        x[ix] = np.c_[r*np.sin(t), r*np.cos(t)]\n",
    "        y[ix] = c\n",
    "    return x,y"
   ]
  },
  {
   "cell_type": "code",
   "execution_count": 209,
   "id": "d02a3b07",
   "metadata": {},
   "outputs": [],
   "source": [
    "train_x, train_y = make_dataset(10000)"
   ]
  },
  {
   "cell_type": "code",
   "execution_count": 210,
   "id": "b119d012",
   "metadata": {},
   "outputs": [
    {
     "name": "stderr",
     "output_type": "stream",
     "text": [
      "/Users/qhu/Envrionments/miniforge3/lib/python3.9/site-packages/torch/nn/functional.py:1795: UserWarning: nn.functional.tanh is deprecated. Use torch.tanh instead.\n",
      "  warnings.warn(\"nn.functional.tanh is deprecated. Use torch.tanh instead.\")\n",
      "/Users/qhu/Envrionments/miniforge3/lib/python3.9/site-packages/torch/nn/functional.py:1806: UserWarning: nn.functional.sigmoid is deprecated. Use torch.sigmoid instead.\n",
      "  warnings.warn(\"nn.functional.sigmoid is deprecated. Use torch.sigmoid instead.\")\n"
     ]
    },
    {
     "name": "stdout",
     "output_type": "stream",
     "text": [
      "epoch0/3000, loss=0.7428659200668335, acc=0.36970001459121704\n",
      "epoch100/3000, loss=0.7325183749198914, acc=0.3921999931335449\n",
      "epoch200/3000, loss=0.7211032509803772, acc=0.4611999988555908\n",
      "epoch300/3000, loss=0.7096757292747498, acc=0.5450999736785889\n",
      "epoch400/3000, loss=0.6995582580566406, acc=0.5952000021934509\n",
      "epoch500/3000, loss=0.6914080381393433, acc=0.640999972820282\n",
      "epoch600/3000, loss=0.6849150657653809, acc=0.6583999991416931\n",
      "epoch700/3000, loss=0.6795336008071899, acc=0.6775000095367432\n",
      "epoch800/3000, loss=0.6749041676521301, acc=0.6901999711990356\n",
      "epoch900/3000, loss=0.6708290576934814, acc=0.7087000012397766\n",
      "epoch1000/3000, loss=0.6671918034553528, acc=0.7124999761581421\n",
      "epoch1100/3000, loss=0.6639143824577332, acc=0.7146000266075134\n",
      "epoch1200/3000, loss=0.66093909740448, acc=0.7159000039100647\n",
      "epoch1300/3000, loss=0.6582201719284058, acc=0.7170000076293945\n",
      "epoch1400/3000, loss=0.6557191610336304, acc=0.7246000170707703\n",
      "epoch1500/3000, loss=0.6534032225608826, acc=0.7361999750137329\n",
      "epoch1600/3000, loss=0.651244580745697, acc=0.7466999888420105\n",
      "epoch1700/3000, loss=0.6492194533348083, acc=0.7530999779701233\n",
      "epoch1800/3000, loss=0.6473082304000854, acc=0.7591999769210815\n",
      "epoch1900/3000, loss=0.6454944014549255, acc=0.7635999917984009\n",
      "epoch2000/3000, loss=0.6437646150588989, acc=0.7678999900817871\n",
      "epoch2100/3000, loss=0.6421076059341431, acc=0.7710999846458435\n",
      "epoch2200/3000, loss=0.6405144333839417, acc=0.7749000191688538\n",
      "epoch2300/3000, loss=0.6389778256416321, acc=0.7782999873161316\n",
      "epoch2400/3000, loss=0.6374915242195129, acc=0.7820000052452087\n",
      "epoch2500/3000, loss=0.6360507607460022, acc=0.7851999998092651\n",
      "epoch2600/3000, loss=0.6346510052680969, acc=0.7879999876022339\n",
      "epoch2700/3000, loss=0.6332891583442688, acc=0.7901999950408936\n",
      "epoch2800/3000, loss=0.6319621205329895, acc=0.7928000092506409\n",
      "epoch2900/3000, loss=0.6306676268577576, acc=0.7953000068664551\n",
      "epoch2999/3000, loss=0.6294159293174744, acc=0.7971000075340271\n"
     ]
    }
   ],
   "source": [
    "threeNN = ThreeLayerNeuralNetwork()\n",
    "threeNN.train(\n",
    "    torch.Tensor(train_x),\n",
    "    torch.Tensor(train_y),\n",
    ")"
   ]
  },
  {
   "cell_type": "code",
   "execution_count": null,
   "id": "61813682",
   "metadata": {},
   "outputs": [],
   "source": []
  },
  {
   "cell_type": "code",
   "execution_count": null,
   "id": "c8eac4f7",
   "metadata": {},
   "outputs": [],
   "source": []
  }
 ],
 "metadata": {
  "kernelspec": {
   "display_name": "Python 3 (ipykernel)",
   "language": "python",
   "name": "python3"
  },
  "language_info": {
   "codemirror_mode": {
    "name": "ipython",
    "version": 3
   },
   "file_extension": ".py",
   "mimetype": "text/x-python",
   "name": "python",
   "nbconvert_exporter": "python",
   "pygments_lexer": "ipython3",
   "version": "3.9.10"
  }
 },
 "nbformat": 4,
 "nbformat_minor": 5
}
