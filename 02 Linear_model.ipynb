{
 "cells": [
  {
   "cell_type": "code",
   "execution_count": 9,
   "id": "89c07931",
   "metadata": {},
   "outputs": [],
   "source": [
    "import torch\n",
    "from torch.autograd import Variable\n",
    "import numpy as np"
   ]
  },
  {
   "cell_type": "code",
   "execution_count": 100,
   "id": "8d62977e",
   "metadata": {},
   "outputs": [],
   "source": [
    "class LinearModelFromScratch:\n",
    "    def __init__(self, \n",
    "                 lr=1e-3, \n",
    "                 epoch=200,\n",
    "                 stop=1\n",
    "                ):\n",
    "        self.learning_rate = lr\n",
    "        self.epoch = epoch\n",
    "        self.stop_c = stop\n",
    "        self.w = Variable(torch.randn(1), True)\n",
    "        self.b = Variable(torch.randn(1), True)\n",
    "    \n",
    "    def linear_model(self, x):\n",
    "        return self.w * x + self.b\n",
    "    \n",
    "    def loss_func(self, y_real, y_estimate):\n",
    "        return torch.mean((y_real - y_estimate)**2)\n",
    "    \n",
    "    def stop_criterion(self, loss):\n",
    "        return loss < self.stop_c\n",
    "    \n",
    "    def train(self, x_train, y_train):\n",
    "        for e in range(self.epoch):\n",
    "            y_estimate = self.linear_model(x_train)\n",
    "            loss = self.loss_func(y_train, y_estimate)\n",
    "            loss.backward()\n",
    "            self.w.data -= self.learning_rate * self.w.grad.data\n",
    "            self.b.data -= self.learning_rate * self.b.grad.data\n",
    "            print(\"epoch{}/{}, loss={}\".format(e, self.epoch, loss))\n",
    "            self.w.grad.zero_()\n",
    "            self.b.grad.zero_()\n",
    "            if self.stop_criterion(loss):\n",
    "                break"
   ]
  },
  {
   "cell_type": "code",
   "execution_count": 101,
   "id": "8e64aa06",
   "metadata": {},
   "outputs": [],
   "source": [
    "x = np.array([[ 3.3  ,  4.4  ,  5.5  ,  6.71 ,  6.93 ,  4.168,  9.779,  6.182,\n",
    "         7.59 ,  2.167,  7.042, 10.791,  5.313,  7.997,  3.1  ]])\n",
    "x = torch.from_numpy(x.reshape((-1,1)))\n",
    "y = np.array([[1.7  , 2.76 , 2.09 , 3.19 , 1.694, 1.573, 3.366, 2.596, 2.53 ,\n",
    "        1.221, 2.827, 3.465, 1.65 , 2.904, 1.3  ]])\n",
    "y = torch.from_numpy(y.reshape((-1,1)))"
   ]
  },
  {
   "cell_type": "code",
   "execution_count": 102,
   "id": "cdb9ad3d",
   "metadata": {
    "scrolled": true
   },
   "outputs": [
    {
     "name": "stdout",
     "output_type": "stream",
     "text": [
      "epoch0/200, loss=34.679290937881554\n",
      "epoch1/200, loss=28.974750507145362\n",
      "epoch2/200, loss=24.213324809177053\n",
      "epoch3/200, loss=20.239095126519373\n",
      "epoch4/200, loss=16.92191733724413\n",
      "epoch5/200, loss=14.15315817419265\n",
      "epoch6/200, loss=11.84215447302169\n",
      "epoch7/200, loss=9.913223380198177\n",
      "epoch8/200, loss=8.30319743266087\n",
      "epoch9/200, loss=6.959352004632691\n",
      "epoch10/200, loss=5.837681817289793\n",
      "epoch11/200, loss=4.901454106366244\n",
      "epoch12/200, loss=4.1200107469463765\n",
      "epoch13/200, loss=3.467760222907421\n",
      "epoch14/200, loss=2.923344900580391\n",
      "epoch15/200, loss=2.468936488285131\n",
      "epoch16/200, loss=2.089653536506052\n",
      "epoch17/200, loss=1.7730764630296458\n",
      "epoch18/200, loss=1.508837811043496\n",
      "epoch19/200, loss=1.2882843759480882\n",
      "epoch20/200, loss=1.1041941307664382\n",
      "epoch21/200, loss=0.9505386114806419\n"
     ]
    }
   ],
   "source": [
    "lm = LinearModelFromScratch()\n",
    "lm.train(\n",
    "    x, y\n",
    ")"
   ]
  },
  {
   "cell_type": "code",
   "execution_count": 103,
   "id": "d6d9af35",
   "metadata": {},
   "outputs": [
    {
     "name": "stdout",
     "output_type": "stream",
     "text": [
      "tensor([0.3507], requires_grad=True) tensor([0.9771], requires_grad=True)\n"
     ]
    }
   ],
   "source": [
    "print(lm.w, lm.b)"
   ]
  },
  {
   "cell_type": "code",
   "execution_count": null,
   "id": "75e609cb",
   "metadata": {},
   "outputs": [],
   "source": []
  }
 ],
 "metadata": {
  "kernelspec": {
   "display_name": "Python 3 (ipykernel)",
   "language": "python",
   "name": "python3"
  },
  "language_info": {
   "codemirror_mode": {
    "name": "ipython",
    "version": 3
   },
   "file_extension": ".py",
   "mimetype": "text/x-python",
   "name": "python",
   "nbconvert_exporter": "python",
   "pygments_lexer": "ipython3",
   "version": "3.9.10"
  }
 },
 "nbformat": 4,
 "nbformat_minor": 5
}
