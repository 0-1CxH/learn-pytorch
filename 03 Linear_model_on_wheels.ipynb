{
 "cells": [
  {
   "cell_type": "code",
   "execution_count": 1,
   "id": "1c60b4af",
   "metadata": {},
   "outputs": [],
   "source": [
    "import torch\n",
    "import numpy as np"
   ]
  },
  {
   "cell_type": "code",
   "execution_count": 8,
   "id": "93120e8b",
   "metadata": {},
   "outputs": [],
   "source": [
    "class LinearModelOnWheel:\n",
    "    def __init__(self, \n",
    "                 lr=1e-3, \n",
    "                 epoch=200,\n",
    "                 stop=1):\n",
    "        self.w = torch.nn.Parameter(torch.randn(1)) # nn.Parameter is Variable but requires_grad=True is default,\n",
    "        self.b = torch.nn.Parameter(torch.randn(1)) # also, nn.Parameter can be autograded by torch.optim optimizers\n",
    "        self.optimizer = torch.optim.SGD([self.w, self.b] , lr=lr) # optimizer optimizes Paramters by learning rate * grad\n",
    "        # torch.optim also includes other optimizers such as Adam, RMSprop, Adagrad, ...\n",
    "        self.loss_func = torch.nn.MSELoss() # common loss functions are provided within torch.nn\n",
    "        # torch.nn also includes other loss functions such as BCEWithLogitsLoss, CrossEntropyLoss, ...\n",
    "        self.epoch = epoch\n",
    "        self.stop_c = stop\n",
    "        \n",
    "    def linear_model(self, x):\n",
    "        return self.w * x + self.b\n",
    "    \n",
    "    def stop_criterion(self, loss):\n",
    "        return loss < self.stop_c\n",
    "    \n",
    "    def train(self, x_train, y_train):\n",
    "        for e in range(self.epoch):\n",
    "            y_estimate = self.linear_model(x_train)\n",
    "            loss = self.loss_func(y_train, y_estimate)\n",
    "            loss.backward()\n",
    "            self.optimizer.step()\n",
    "            print(\"epoch{}/{}, loss={}\".format(e, self.epoch, loss))\n",
    "            self.optimizer.zero_grad()\n",
    "            if self.stop_criterion(loss):\n",
    "                break"
   ]
  },
  {
   "cell_type": "code",
   "execution_count": 9,
   "id": "f43e9db1",
   "metadata": {},
   "outputs": [],
   "source": [
    "x = np.array([[ 3.3  ,  4.4  ,  5.5  ,  6.71 ,  6.93 ,  4.168,  9.779,  6.182,\n",
    "         7.59 ,  2.167,  7.042, 10.791,  5.313,  7.997,  3.1  ]])\n",
    "x = torch.from_numpy(x.reshape((-1,1)))\n",
    "y = np.array([[1.7  , 2.76 , 2.09 , 3.19 , 1.694, 1.573, 3.366, 2.596, 2.53 ,\n",
    "        1.221, 2.827, 3.465, 1.65 , 2.904, 1.3  ]])\n",
    "y = torch.from_numpy(y.reshape((-1,1)))"
   ]
  },
  {
   "cell_type": "code",
   "execution_count": 10,
   "id": "ecd108c3",
   "metadata": {},
   "outputs": [
    {
     "name": "stdout",
     "output_type": "stream",
     "text": [
      "epoch0/200, loss=72.72117688011721\n",
      "epoch1/200, loss=60.80185246784536\n",
      "epoch2/200, loss=50.85309230312176\n",
      "epoch3/200, loss=42.54910180898891\n",
      "epoch4/200, loss=35.61795360495785\n",
      "epoch5/200, loss=29.832677038225132\n",
      "epoch6/200, loss=25.00382788705694\n",
      "epoch7/200, loss=20.97328271326058\n",
      "epoch8/200, loss=17.609059741154564\n",
      "epoch9/200, loss=14.801000464635719\n",
      "epoch10/200, loss=12.457152638832186\n",
      "epoch11/200, loss=10.500769430516943\n",
      "epoch12/200, loss=8.867792206922134\n",
      "epoch13/200, loss=7.504752859253077\n",
      "epoch14/200, loss=6.367023232944732\n",
      "epoch15/200, loss=5.417352846535956\n",
      "epoch16/200, loss=4.624651549757655\n",
      "epoch17/200, loss=3.9629670340637433\n",
      "epoch18/200, loss=3.4106392134212316\n",
      "epoch19/200, loss=2.9495877543675912\n",
      "epoch20/200, loss=2.564722521963084\n",
      "epoch21/200, loss=2.2434477864100173\n",
      "epoch22/200, loss=1.9752504607615127\n",
      "epoch23/200, loss=1.751355081579512\n",
      "epoch24/200, loss=1.5644376357006233\n",
      "epoch25/200, loss=1.40838416761576\n",
      "epoch26/200, loss=1.2780926547898401\n",
      "epoch27/200, loss=1.1693034275773242\n",
      "epoch28/200, loss=1.0784618899633505\n",
      "epoch29/200, loss=1.0026006188488343\n",
      "epoch30/200, loss=0.9392430993112622\n"
     ]
    }
   ],
   "source": [
    "lm = LinearModelOnWheel()\n",
    "lm.train(x,y)"
   ]
  },
  {
   "cell_type": "code",
   "execution_count": 11,
   "id": "f099adfc",
   "metadata": {},
   "outputs": [
    {
     "name": "stdout",
     "output_type": "stream",
     "text": [
      "Parameter containing:\n",
      "tensor([-0.0844], requires_grad=True) Parameter containing:\n",
      "tensor([2.5923], requires_grad=True)\n"
     ]
    }
   ],
   "source": [
    "print(lm.w, lm.b)"
   ]
  },
  {
   "cell_type": "code",
   "execution_count": null,
   "id": "af01abc6",
   "metadata": {},
   "outputs": [],
   "source": []
  }
 ],
 "metadata": {
  "kernelspec": {
   "display_name": "Python 3 (ipykernel)",
   "language": "python",
   "name": "python3"
  },
  "language_info": {
   "codemirror_mode": {
    "name": "ipython",
    "version": 3
   },
   "file_extension": ".py",
   "mimetype": "text/x-python",
   "name": "python",
   "nbconvert_exporter": "python",
   "pygments_lexer": "ipython3",
   "version": "3.9.10"
  }
 },
 "nbformat": 4,
 "nbformat_minor": 5
}
