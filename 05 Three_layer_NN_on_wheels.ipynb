{
 "cells": [
  {
   "cell_type": "code",
   "execution_count": 1,
   "id": "327981b0",
   "metadata": {},
   "outputs": [],
   "source": [
    "import torch"
   ]
  },
  {
   "cell_type": "code",
   "execution_count": 65,
   "id": "c25e063d",
   "metadata": {},
   "outputs": [],
   "source": [
    "class ThreeLayerNeuralNetworkOnWheel(object):\n",
    "    \"\"\"\n",
    "    3-NN \n",
    "    input=2\n",
    "    tanh_layer input=2, output=4 (y1=tanh(x@w1+b1))\n",
    "    sigmoid_layer  input=4, output=4 (y2=relu(y1@w2+b2))\n",
    "    tanh_layer input=4, output=1 (y=sigmoid(y2@w3+b3))\n",
    "    \"\"\"\n",
    "    def __init__(self,\n",
    "                 lr=5e-3, \n",
    "                 epoch=3000,):\n",
    "        self.network = torch.nn.Sequential(\n",
    "            torch.nn.Linear(2,4), # using layers defined in torch.nn skips declaration of nn.Parameter objects\n",
    "            torch.nn.Tanh(),\n",
    "            torch.nn.Linear(4,4), # nn.Linear is the linear layer x@w+b\n",
    "            torch.nn.Sigmoid(), # nn.Tanh and nn.Sigmoid is not 'function' but 'layer'\n",
    "            torch.nn.Linear(4,1),\n",
    "            torch.nn.Tanh(),\n",
    "        ) # a sequential object chains all the layers so that no need to write the computation of each layer\n",
    "        \n",
    "        self.epoch = epoch\n",
    "        \n",
    "        self.optimizer = torch.optim.SGD(self.network.parameters(), lr = lr)\n",
    "        self.loss_func = torch.nn.BCEWithLogitsLoss()\n",
    "    \n",
    "    def load_params_from_file(self, path):\n",
    "        params = torch.load(path)  # use torch.load to load params from file\n",
    "        self.network.load_state_dict(params)\n",
    "    \n",
    "    def load_model_and_params_from_file(self, path):\n",
    "        self.network = torch.load(path)  # use torch.load to load the whole model and params form file\n",
    "    \n",
    "    def train(self, x_train, y_train):\n",
    "        for e in range(self.epoch):\n",
    "            y_estimate = self.network(x_train)\n",
    "            loss = self.loss_func(y_estimate, y_train) # attention: do not swap the position!\n",
    "            loss.backward()\n",
    "            self.optimizer.step()\n",
    "            if e%100==0 or e==self.epoch-1:\n",
    "                print(\"epoch{}/{}, loss={}\".format(e, self.epoch, loss))\n",
    "            self.optimizer.zero_grad()"
   ]
  },
  {
   "cell_type": "code",
   "execution_count": 63,
   "id": "c2261a9d",
   "metadata": {},
   "outputs": [],
   "source": [
    "threeNN = ThreeLayerNeuralNetworkOnWheel()\n",
    "threeNN.load_params_from_file(\"3NN_params.pth\")"
   ]
  },
  {
   "cell_type": "code",
   "execution_count": null,
   "id": "bbc5d9b1",
   "metadata": {},
   "outputs": [],
   "source": [
    "threeNN.load_model_and_params_from_file(\"3NN.pth\")"
   ]
  },
  {
   "cell_type": "code",
   "execution_count": 49,
   "id": "70f0521b",
   "metadata": {},
   "outputs": [
    {
     "name": "stdout",
     "output_type": "stream",
     "text": [
      "layer0:Linear(in_features=2, out_features=4, bias=True),weights=Parameter containing:\n",
      "tensor([[-0.0895,  0.5616],\n",
      "        [-0.2315, -0.3945],\n",
      "        [ 0.5897,  0.3278],\n",
      "        [ 0.5580, -0.2806]], requires_grad=True)\n",
      "layer1:Tanh(),weights=None\n",
      "layer2:Linear(in_features=4, out_features=4, bias=True),weights=Parameter containing:\n",
      "tensor([[ 0.3124, -0.1022,  0.4034, -0.0024],\n",
      "        [-0.4612, -0.1980,  0.4264, -0.4843],\n",
      "        [ 0.2461, -0.4284,  0.3987,  0.1740],\n",
      "        [-0.3581,  0.1977, -0.2569,  0.2238]], requires_grad=True)\n",
      "layer3:Sigmoid(),weights=None\n",
      "layer4:Linear(in_features=4, out_features=1, bias=True),weights=Parameter containing:\n",
      "tensor([[ 0.2463, -0.1433, -0.4782, -0.0488]], requires_grad=True)\n",
      "layer5:Tanh(),weights=None\n"
     ]
    }
   ],
   "source": [
    "def print_network_params(net):\n",
    "    for i,layer in enumerate(net):\n",
    "        try:\n",
    "            layer_weight = layer.weight\n",
    "        except:\n",
    "            layer_weight = None\n",
    "        print(\"layer{}:{},weights={}\".format(\n",
    "                i, layer, layer_weight\n",
    "            ))\n",
    "print_network_params(threeNN.network)"
   ]
  },
  {
   "cell_type": "code",
   "execution_count": 57,
   "id": "fff8497e",
   "metadata": {},
   "outputs": [],
   "source": [
    "import numpy as np\n",
    "import matplotlib.pyplot as plt\n",
    "def make_dataset(sample_count, input_dim=2, label_classes=2):\n",
    "    x = np.zeros((sample_count, input_dim))\n",
    "    y = np.zeros((sample_count, 1))\n",
    "    N = int(sample_count/label_classes)\n",
    "    for c in range(label_classes):\n",
    "        ix = range(N*c,N*(c+1))\n",
    "        t = np.linspace(c*3.12,(c+1)*3.12,N) + np.random.randn(N)*0.2\n",
    "        r = 4*np.sin(4*t) + np.random.randn(N)*0.2\n",
    "        x[ix] = np.c_[r*np.sin(t), r*np.cos(t)]\n",
    "        y[ix] = c\n",
    "    return x,y\n",
    "train_x, train_y = make_dataset(10000)"
   ]
  },
  {
   "cell_type": "code",
   "execution_count": 64,
   "id": "4ea01cd7",
   "metadata": {},
   "outputs": [
    {
     "name": "stdout",
     "output_type": "stream",
     "text": [
      "epoch0/3000, loss=0.6109656095504761\n",
      "epoch100/3000, loss=0.6104978919029236\n",
      "epoch200/3000, loss=0.6100173592567444\n",
      "epoch300/3000, loss=0.6095231771469116\n",
      "epoch400/3000, loss=0.6090143322944641\n",
      "epoch500/3000, loss=0.6084896326065063\n",
      "epoch600/3000, loss=0.607948362827301\n",
      "epoch700/3000, loss=0.607388973236084\n",
      "epoch800/3000, loss=0.6068106293678284\n",
      "epoch900/3000, loss=0.6062121391296387\n",
      "epoch1000/3000, loss=0.6055920124053955\n",
      "epoch1100/3000, loss=0.6049495339393616\n",
      "epoch1200/3000, loss=0.6042832136154175\n",
      "epoch1300/3000, loss=0.6035919189453125\n",
      "epoch1400/3000, loss=0.6028746962547302\n",
      "epoch1500/3000, loss=0.6021305322647095\n",
      "epoch1600/3000, loss=0.6013582944869995\n",
      "epoch1700/3000, loss=0.600557267665863\n",
      "epoch1800/3000, loss=0.599726676940918\n",
      "epoch1900/3000, loss=0.598865807056427\n",
      "epoch2000/3000, loss=0.5979741215705872\n",
      "epoch2100/3000, loss=0.5970514416694641\n",
      "epoch2200/3000, loss=0.5960969924926758\n",
      "epoch2300/3000, loss=0.5951108336448669\n",
      "epoch2400/3000, loss=0.594092607498169\n",
      "epoch2500/3000, loss=0.5930423140525818\n",
      "epoch2600/3000, loss=0.5919597744941711\n",
      "epoch2700/3000, loss=0.5908449292182922\n",
      "epoch2800/3000, loss=0.5896977186203003\n",
      "epoch2900/3000, loss=0.5885182619094849\n",
      "epoch2999/3000, loss=0.5873187780380249\n"
     ]
    }
   ],
   "source": [
    "threeNN.train(\n",
    "    torch.Tensor(train_x),\n",
    "    torch.Tensor(train_y),\n",
    ")"
   ]
  },
  {
   "cell_type": "code",
   "execution_count": 62,
   "id": "1d288031",
   "metadata": {},
   "outputs": [],
   "source": [
    "torch.save(threeNN.network, \"3NN.pth\")  # save the model and trained parameters\n",
    "torch.save(threeNN.network.state_dict(), \"3NN_params.pth\")  # only save the trained parameters\n"
   ]
  },
  {
   "cell_type": "code",
   "execution_count": null,
   "id": "9b3345da",
   "metadata": {},
   "outputs": [],
   "source": []
  }
 ],
 "metadata": {
  "kernelspec": {
   "display_name": "Python 3 (ipykernel)",
   "language": "python",
   "name": "python3"
  },
  "language_info": {
   "codemirror_mode": {
    "name": "ipython",
    "version": 3
   },
   "file_extension": ".py",
   "mimetype": "text/x-python",
   "name": "python",
   "nbconvert_exporter": "python",
   "pygments_lexer": "ipython3",
   "version": "3.9.10"
  }
 },
 "nbformat": 4,
 "nbformat_minor": 5
}
